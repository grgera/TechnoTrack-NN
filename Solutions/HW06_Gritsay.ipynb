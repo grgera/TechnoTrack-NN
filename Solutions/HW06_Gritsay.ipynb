{
 "cells": [
  {
   "cell_type": "markdown",
   "metadata": {
    "id": "rTnlZPDH-rcK"
   },
   "source": [
    "# ДЗ №6 - автокодировщики для идентификации аномалий"
   ]
  },
  {
   "cell_type": "markdown",
   "metadata": {
    "id": "yHFz3k0j-rcM"
   },
   "source": [
    "В этом ДЗ вам предстоит применить модель сврточного автокодировщика для идентификации аномалий в данных."
   ]
  },
  {
   "cell_type": "code",
   "execution_count": 1,
   "metadata": {
    "colab": {
     "base_uri": "https://localhost:8080/"
    },
    "id": "wpn_FLzD-rcN",
    "outputId": "154060e3-70cd-4b4d-a08d-325b549d3b5f"
   },
   "outputs": [
    {
     "name": "stdout",
     "output_type": "stream",
     "text": [
      "Requirement already satisfied: torch in /usr/local/lib/python3.7/dist-packages (1.8.1+cu101)\n",
      "Requirement already satisfied: torchvision in /usr/local/lib/python3.7/dist-packages (0.9.1+cu101)\n",
      "Requirement already satisfied: numpy in /usr/local/lib/python3.7/dist-packages (1.19.5)\n",
      "Requirement already satisfied: matplotlib in /usr/local/lib/python3.7/dist-packages (3.2.2)\n",
      "Requirement already satisfied: typing-extensions in /usr/local/lib/python3.7/dist-packages (from torch) (3.7.4.3)\n",
      "Requirement already satisfied: pillow>=4.1.1 in /usr/local/lib/python3.7/dist-packages (from torchvision) (7.1.2)\n",
      "Requirement already satisfied: pyparsing!=2.0.4,!=2.1.2,!=2.1.6,>=2.0.1 in /usr/local/lib/python3.7/dist-packages (from matplotlib) (2.4.7)\n",
      "Requirement already satisfied: kiwisolver>=1.0.1 in /usr/local/lib/python3.7/dist-packages (from matplotlib) (1.3.1)\n",
      "Requirement already satisfied: python-dateutil>=2.1 in /usr/local/lib/python3.7/dist-packages (from matplotlib) (2.8.1)\n",
      "Requirement already satisfied: cycler>=0.10 in /usr/local/lib/python3.7/dist-packages (from matplotlib) (0.10.0)\n",
      "Requirement already satisfied: six>=1.5 in /usr/local/lib/python3.7/dist-packages (from python-dateutil>=2.1->matplotlib) (1.15.0)\n"
     ]
    }
   ],
   "source": [
    "# Эту ячейку следует выоплнять в окружении, в котором еще не установлены необходимые библиотеки. В подготовленном окружении эту ячейку можно пропустить.\n",
    "!pip3 install torch torchvision numpy matplotlib"
   ]
  },
  {
   "cell_type": "code",
   "execution_count": 2,
   "metadata": {
    "id": "BxwXceSf-rcO"
   },
   "outputs": [],
   "source": [
    "import torch\n",
    "import torchvision\n",
    "import numpy as np\n",
    "import matplotlib.pyplot as plt\n",
    "import torch.nn as nn\n",
    "import torch.nn.functional as F\n",
    "from torch.utils.data import Dataset, DataLoader\n",
    "from tqdm import tqdm\n",
    "from PIL import Image\n",
    "\n",
    "from typing import Tuple, List, Type, Dict, Any"
   ]
  },
  {
   "cell_type": "code",
   "execution_count": 3,
   "metadata": {
    "id": "htPbEzMx-rcO"
   },
   "outputs": [],
   "source": [
    "device = torch.device(\"cuda\" if torch.cuda.is_available() else \"cpu\")"
   ]
  },
  {
   "cell_type": "markdown",
   "metadata": {
    "id": "Lxv-bv5c-rcT"
   },
   "source": [
    "### **Задание: Напишите пайплайн для предобработки и аугументации данных**.\n"
   ]
  },
  {
   "cell_type": "code",
   "execution_count": 4,
   "metadata": {
    "id": "iHFKvbIf-rcT"
   },
   "outputs": [],
   "source": [
    "train_transforms = torchvision.transforms.Compose([\n",
    "    torchvision.transforms.RandomRotation(degrees=30),\n",
    "    torchvision.transforms.ToTensor()\n",
    "])\n",
    "\n",
    "val_transforms = torchvision.transforms.Compose([\n",
    "    torchvision.transforms.ToTensor()\n",
    "])"
   ]
  },
  {
   "cell_type": "markdown",
   "metadata": {
    "id": "2klCPx9Y-rcP"
   },
   "source": [
    "В предположении, что файл данных `mnist_corrupted.npz` загружен и находится в той же директории, что и этот нотбук, генераторы данных можно описать следующим образом:"
   ]
  },
  {
   "cell_type": "code",
   "execution_count": 5,
   "metadata": {
    "id": "OuSSDIqX-rcP"
   },
   "outputs": [],
   "source": [
    "class DS(Dataset):\n",
    "    def __init__(self, data, transform=None):\n",
    "        self.data = data\n",
    "        self.transform = transform\n",
    "\n",
    "    def __getitem__(self, index):\n",
    "        x = self.data[index]\n",
    "\n",
    "        if self.transform:\n",
    "            x = Image.fromarray(x.astype(np.uint8))\n",
    "            x = self.transform(x)\n",
    "\n",
    "        return x\n",
    "\n",
    "    def __len__(self):\n",
    "        return len(self.data)"
   ]
  },
  {
   "cell_type": "code",
   "execution_count": 6,
   "metadata": {
    "id": "6KceML0n-rcQ"
   },
   "outputs": [],
   "source": [
    "mnist = np.load('./mnist_corrupted.npz')\n",
    "mnist_train_samples = mnist['x_train']\n",
    "mnist_test_samples = mnist['x_test']\n",
    "train_dataset = DS(mnist_train_samples, train_transforms)\n",
    "val_dataset = DS(mnist_test_samples, val_transforms)"
   ]
  },
  {
   "cell_type": "markdown",
   "metadata": {
    "id": "kBLd4mwY-rcQ"
   },
   "source": [
    "### **Визуализация исходных данных**\n",
    "\n",
    "Как и в любой задаче, имеет смысл визуализировать исходные данные, чтобы понимать, с чем мы имеем дело"
   ]
  },
  {
   "cell_type": "code",
   "execution_count": 7,
   "metadata": {
    "colab": {
     "base_uri": "https://localhost:8080/",
     "height": 168
    },
    "id": "XvjagFcH-rcR",
    "outputId": "d4bca3ab-c15f-4e49-d29b-5c671f9b2e56"
   },
   "outputs": [
    {
     "data": {
      "image/png": "[encoded data removed]",
      "text/plain": [
       "<Figure size 2400x600 with 8 Axes>"
      ]
     },
     "metadata": {
      "tags": []
     },
     "output_type": "display_data"
    }
   ],
   "source": [
    "indices = np.random.randint(0, len(train_dataset), size=8)\n",
    "\n",
    "fig, axes = plt.subplots(nrows=1, ncols=8, figsize=(8, 2), dpi=300)\n",
    "for i, ax in enumerate(axes):\n",
    "    sample_index = indices[i]\n",
    "    sample = mnist_train_samples[sample_index]\n",
    "    ax.imshow(sample, cmap='gray')\n",
    "    ax.set_xticks([])\n",
    "    ax.set_yticks([])\n",
    "plt.tight_layout()\n",
    "fig.patch.set_facecolor('white')"
   ]
  },
  {
   "cell_type": "markdown",
   "metadata": {
    "id": "dMkE591M-rcU"
   },
   "source": [
    "### **Задание: отобразите несколько произвольных примеров обучающей выборки.**"
   ]
  },
  {
   "cell_type": "code",
   "execution_count": 8,
   "metadata": {
    "colab": {
     "base_uri": "https://localhost:8080/",
     "height": 346
    },
    "id": "rcTnqXvv-rcU",
    "outputId": "00f95d32-6de6-4372-81c8-80c74d634cd5"
   },
   "outputs": [
    {
     "data": {
      "image/png": "[encoded data removed]",
      "text/plain": [
       "<Figure size 2400x600 with 8 Axes>"
      ]
     },
     "metadata": {
      "tags": []
     },
     "output_type": "display_data"
    }
   ],
   "source": [
    "indices = np.random.randint(0, len(train_dataset), size=8)\n",
    "\n",
    "fig, axes = plt.subplots(nrows=1, ncols=8, figsize=(8, 2), dpi=300)\n",
    "for i, ax in enumerate(axes):\n",
    "    sample_index = indices[i]\n",
    "    sample = train_dataset[sample_index]\n",
    "    ax.imshow(np.squeeze(sample.cpu().numpy()), cmap='gray')\n",
    "    ax.set_xticks([])\n",
    "    ax.set_yticks([])\n",
    "plt.tight_layout()\n",
    "fig.patch.set_facecolor('white')"
   ]
  },
  {
   "cell_type": "markdown",
   "metadata": {
    "id": "9VUeUhG4-rcS"
   },
   "source": [
    "### **Задание:  Описать класс нейросети-автокодировщика, описываемой в этом задании.**"
   ]
  },
  {
   "cell_type": "code",
   "execution_count": 9,
   "metadata": {
    "id": "Fdhvieq1-rcS"
   },
   "outputs": [],
   "source": [
    "class ConvAutoencoder(nn.Module):\n",
    "    def __init__(self, hidden_dim = 16):\n",
    "        super(ConvAutoencoder, self).__init__()\n",
    "\n",
    "        self.conv1 = nn.Conv2d(1, 16, 3, padding=1, stride=2)  \n",
    "        self.conv2 = nn.Conv2d(16, 4, 3, padding=1, stride=2)\n",
    "        self.l1 = nn.Linear(196, hidden_dim)\n",
    "\n",
    "        self.l2 = nn.Linear(hidden_dim, 196)\n",
    "        self.t_conv1 = nn.ConvTranspose2d(4, 16, 3, padding=1, stride=1)\n",
    "        self.t_conv2 = nn.ConvTranspose2d(16, 1, 3, padding=1, stride=1)\n",
    "        \n",
    "\n",
    "    def forward(self, x):\n",
    "        x = F.relu(self.conv1(x))\n",
    "        x = F.relu(self.conv2(x))\n",
    "        x_shape = x.shape\n",
    "        x = x.view((-1, np.product(x.shape[1:])))\n",
    "        x = F.relu(self.l1(x))\n",
    "\n",
    "        x = F.relu(self.l2(x))\n",
    "        x = x.view([-1] + list(x_shape[1:]))\n",
    "        x = F.upsample(x, scale_factor=(2, 2), mode='bilinear')\n",
    "        x = F.relu(self.t_conv1(x))\n",
    "        x = F.upsample(x, scale_factor=(2, 2), mode='bilinear')\n",
    "        x = F.sigmoid(self.t_conv2(x))\n",
    "\n",
    "        return x"
   ]
  },
  {
   "cell_type": "code",
   "execution_count": 10,
   "metadata": {
    "colab": {
     "base_uri": "https://localhost:8080/"
    },
    "id": "_7UR3I8Q-rcS",
    "outputId": "6127ab0f-b61d-461d-b29a-10af623040e6"
   },
   "outputs": [
    {
     "name": "stdout",
     "output_type": "stream",
     "text": [
      "ConvAutoencoder(\n",
      "  (conv1): Conv2d(1, 16, kernel_size=(3, 3), stride=(2, 2), padding=(1, 1))\n",
      "  (conv2): Conv2d(16, 4, kernel_size=(3, 3), stride=(2, 2), padding=(1, 1))\n",
      "  (l1): Linear(in_features=196, out_features=16, bias=True)\n",
      "  (l2): Linear(in_features=16, out_features=196, bias=True)\n",
      "  (t_conv1): ConvTranspose2d(4, 16, kernel_size=(3, 3), stride=(1, 1), padding=(1, 1))\n",
      "  (t_conv2): ConvTranspose2d(16, 1, kernel_size=(3, 3), stride=(1, 1), padding=(1, 1))\n",
      ")\n"
     ]
    }
   ],
   "source": [
    "model = ConvAutoencoder()\n",
    "print(model)"
   ]
  },
  {
   "cell_type": "code",
   "execution_count": 11,
   "metadata": {
    "id": "aQNnebes-rcT"
   },
   "outputs": [],
   "source": [
    "model = model.to(device)"
   ]
  },
  {
   "cell_type": "markdown",
   "metadata": {
    "id": "UWCqMziG-rcU"
   },
   "source": [
    "### **Задание: отобразите один произвольный пример обучающей выборки и результат вычисления нейросети на этом примере.**"
   ]
  },
  {
   "cell_type": "code",
   "execution_count": 12,
   "metadata": {
    "colab": {
     "base_uri": "https://localhost:8080/"
    },
    "id": "4-7bWWpY-rcU",
    "outputId": "a8a07284-979d-495b-d701-cfc6afd9ea0c"
   },
   "outputs": [
    {
     "name": "stderr",
     "output_type": "stream",
     "text": [
      "/usr/local/lib/python3.7/dist-packages/torch/nn/functional.py:3328: UserWarning: nn.functional.upsample is deprecated. Use nn.functional.interpolate instead.\n",
      "  warnings.warn(\"nn.functional.upsample is deprecated. Use nn.functional.interpolate instead.\")\n",
      "/usr/local/lib/python3.7/dist-packages/torch/nn/functional.py:3458: UserWarning: Default upsampling behavior when mode=bilinear is changed to align_corners=False since 0.4.0. Please specify align_corners=True if the old behavior is desired. See the documentation of nn.Upsample for details.\n",
      "  \"See the documentation of nn.Upsample for details.\".format(mode)\n",
      "/usr/local/lib/python3.7/dist-packages/torch/nn/functional.py:1709: UserWarning: nn.functional.sigmoid is deprecated. Use torch.sigmoid instead.\n",
      "  warnings.warn(\"nn.functional.sigmoid is deprecated. Use torch.sigmoid instead.\")\n"
     ]
    }
   ],
   "source": [
    "example_index = int(np.random.randint(0, len(train_dataset), size=1))\n",
    "example = train_dataset[example_index]\n",
    "\n",
    "example_np = np.squeeze(example.detach().cpu().numpy())\n",
    "example_transformed = model(example.view(1,1,28,28).to(device))\n",
    "example_transformed_np = np.squeeze(example_transformed.detach().cpu().numpy())"
   ]
  },
  {
   "cell_type": "code",
   "execution_count": 13,
   "metadata": {
    "colab": {
     "base_uri": "https://localhost:8080/",
     "height": 406
    },
    "id": "AY-nyI8v-rcV",
    "outputId": "fab55382-d7fb-452d-d90a-79eae5038979"
   },
   "outputs": [
    {
     "data": {
      "image/png": "[encoded data removed]",
      "text/plain": [
       "<Figure size 800x400 with 2 Axes>"
      ]
     },
     "metadata": {
      "tags": []
     },
     "output_type": "display_data"
    }
   ],
   "source": [
    "fig, axes = plt.subplots(nrows = 1, ncols = 2, figsize = (4,2), dpi = 200)\n",
    "for i, ax in enumerate(axes):\n",
    "    img = example_np if i==0 else example_transformed_np\n",
    "    ax.imshow(img, cmap = 'gray')\n",
    "    ax.set_xticks([])\n",
    "    ax.set_yticks([])\n",
    "plt.tight_layout()\n",
    "fig.patch.set_facecolor('white')"
   ]
  },
  {
   "cell_type": "markdown",
   "metadata": {
    "id": "H5f_Xkfe-rcV"
   },
   "source": [
    "### **Обучение модели**\n"
   ]
  },
  {
   "cell_type": "code",
   "execution_count": 14,
   "metadata": {
    "id": "FQ-VP97u-rcV"
   },
   "outputs": [],
   "source": [
    "def train_model(model: torch.nn.Module, \n",
    "                train_dataset: torch.utils.data.Dataset,\n",
    "                val_dataset: torch.utils.data.Dataset,\n",
    "                loss_function: torch.nn.Module = torch.nn.CrossEntropyLoss(),\n",
    "                optimizer_class: Type[torch.optim.Optimizer] = torch.optim.Adam,\n",
    "                optimizer_params: Dict = {},\n",
    "                initial_lr = 0.01,\n",
    "                lr_scheduler_class: Any = torch.optim.lr_scheduler.ReduceLROnPlateau,\n",
    "                lr_scheduler_params: Dict = {},\n",
    "                batch_size = 64,\n",
    "                max_epochs = 15,\n",
    "                early_stopping_patience = 10\n",
    "):\n",
    "    optimizer = optimizer_class(model.parameters(), **optimizer_params)\n",
    "    lr_scheduler = lr_scheduler_class(optimizer, **lr_scheduler_params)\n",
    "    \n",
    "    train_loader = torch.utils.data.DataLoader(train_dataset, shuffle=True, batch_size=batch_size)\n",
    "    val_loader = torch.utils.data.DataLoader(val_dataset, batch_size=batch_size)\n",
    "\n",
    "    best_val_loss = None\n",
    "    best_epoch = None\n",
    "    # threshold = 0\n",
    "    \n",
    "    for epoch in range(max_epochs):\n",
    "        print(f'Epoch {epoch+1} of {max_epochs}')\n",
    "        train_single_epoch(model, optimizer, loss_function, train_loader)\n",
    "        val_metrics = validate_single_epoch(model, loss_function, val_loader)\n",
    "        print(f'Validation metrics: \\n{val_metrics}')\n",
    "\n",
    "        lr_scheduler.step(val_metrics['loss'])\n",
    "        \n",
    "        if best_val_loss is None or best_val_loss > val_metrics['loss']:\n",
    "            print(f'Best model yet, saving')\n",
    "            best_val_loss = val_metrics['loss']\n",
    "            best_epoch = epoch\n",
    "            \n",
    "        if epoch - best_epoch > early_stopping_patience:\n",
    "            print('Early stopping triggered')\n",
    "            return"
   ]
  },
  {
   "cell_type": "markdown",
   "metadata": {
    "id": "OigNdPxP-rcW"
   },
   "source": [
    "### **Задание:  Реализуйте функцию, производящую обучение сети на протяжении одной эпохи ( полного прохода по всей обучающей выборке ). На вход будет приходить модель, оптимизатор, функция потерь и объект типа `DataLoader`.**"
   ]
  },
  {
   "cell_type": "code",
   "execution_count": 15,
   "metadata": {
    "id": "b5IxjJ5y-rcW"
   },
   "outputs": [],
   "source": [
    "def train_single_epoch(model: torch.nn.Module,\n",
    "                       optimizer: torch.optim.Optimizer, \n",
    "                       loss_function: torch.nn.Module, \n",
    "                       data_loader: torch.utils.data.DataLoader):\n",
    "    \n",
    "    model.train()\n",
    "\n",
    "    for X_batch in data_loader:\n",
    "        X_batch = X_batch.to(device)\n",
    "\n",
    "        optimizer.zero_grad()\n",
    "        output = model(X_batch)\n",
    "        loss = loss_function(output, X_batch) \n",
    "        \n",
    "        loss.backward()\n",
    "        optimizer.step()"
   ]
  },
  {
   "cell_type": "markdown",
   "metadata": {
    "id": "YdI1elQT-rcW"
   },
   "source": [
    "### **Задание:  Реализуйте функцию производящую расчёт функции потерь на тестовой выборке.  На вход будет приходить модель, функция потерь и DataLoader.**"
   ]
  },
  {
   "cell_type": "code",
   "execution_count": 16,
   "metadata": {
    "id": "nt6w5IS2-rcX"
   },
   "outputs": [],
   "source": [
    "@torch.no_grad()\n",
    "def validate_single_epoch(model: torch.nn.Module,\n",
    "                          loss_function: torch.nn.Module, \n",
    "                          data_loader: torch.utils.data.DataLoader):\n",
    "    model.eval()\n",
    "    loss_history = 0\n",
    "\n",
    "    for X_batch in data_loader:\n",
    "        X_batch = X_batch.to(device)\n",
    "        \n",
    "        output = model(X_batch)\n",
    "        loss_history += loss_function(output, X_batch).item()\n",
    "\n",
    "    return {\n",
    "        'loss': loss_history / len(data_loader.dataset)\n",
    "    }"
   ]
  },
  {
   "cell_type": "markdown",
   "metadata": {
    "id": "fE4IfJvA-rcX"
   },
   "source": [
    "### **Задание: придумайте функцию потерь.**\n"
   ]
  },
  {
   "cell_type": "markdown",
   "metadata": {
    "id": "G38IKV4NJlOs"
   },
   "source": [
    "Наша цель получить идентичное преобразование. Идентичное преобразование тем ближе, чем меньше MSE. В качестве функции потерь выбрана MSE."
   ]
  },
  {
   "cell_type": "code",
   "execution_count": 18,
   "metadata": {
    "colab": {
     "base_uri": "https://localhost:8080/"
    },
    "id": "5BA-mkqg-rcX",
    "outputId": "bdb9039f-cac3-43e0-cfbe-9af21132be3f"
   },
   "outputs": [
    {
     "name": "stdout",
     "output_type": "stream",
     "text": [
      "Epoch 1 of 20\n"
     ]
    },
    {
     "name": "stderr",
     "output_type": "stream",
     "text": [
      "/usr/local/lib/python3.7/dist-packages/torch/nn/functional.py:3328: UserWarning: nn.functional.upsample is deprecated. Use nn.functional.interpolate instead.\n",
      "  warnings.warn(\"nn.functional.upsample is deprecated. Use nn.functional.interpolate instead.\")\n",
      "/usr/local/lib/python3.7/dist-packages/torch/nn/functional.py:3458: UserWarning: Default upsampling behavior when mode=bilinear is changed to align_corners=False since 0.4.0. Please specify align_corners=True if the old behavior is desired. See the documentation of nn.Upsample for details.\n",
      "  \"See the documentation of nn.Upsample for details.\".format(mode)\n",
      "/usr/local/lib/python3.7/dist-packages/torch/nn/functional.py:1709: UserWarning: nn.functional.sigmoid is deprecated. Use torch.sigmoid instead.\n",
      "  warnings.warn(\"nn.functional.sigmoid is deprecated. Use torch.sigmoid instead.\")\n"
     ]
    },
    {
     "name": "stdout",
     "output_type": "stream",
     "text": [
      "Validation metrics: \n",
      "{'loss': 25.7250241607666}\n",
      "Best model yet, saving\n",
      "Epoch 2 of 20\n",
      "Validation metrics: \n",
      "{'loss': 23.805596295166016}\n",
      "Best model yet, saving\n",
      "Epoch 3 of 20\n",
      "Validation metrics: \n",
      "{'loss': 22.328310488891603}\n",
      "Best model yet, saving\n",
      "Epoch 4 of 20\n",
      "Validation metrics: \n",
      "{'loss': 21.832313958740233}\n",
      "Best model yet, saving\n",
      "Epoch 5 of 20\n",
      "Validation metrics: \n",
      "{'loss': 21.48837980957031}\n",
      "Best model yet, saving\n",
      "Epoch 6 of 20\n",
      "Validation metrics: \n",
      "{'loss': 20.217894799804686}\n",
      "Best model yet, saving\n",
      "Epoch 7 of 20\n",
      "Validation metrics: \n",
      "{'loss': 19.930016381835937}\n",
      "Best model yet, saving\n",
      "Epoch 8 of 20\n",
      "Validation metrics: \n",
      "{'loss': 19.45395402832031}\n",
      "Best model yet, saving\n",
      "Epoch 9 of 20\n",
      "Validation metrics: \n",
      "{'loss': 19.40828217468262}\n",
      "Best model yet, saving\n",
      "Epoch 10 of 20\n",
      "Validation metrics: \n",
      "{'loss': 19.00617671508789}\n",
      "Best model yet, saving\n",
      "Epoch 11 of 20\n",
      "Validation metrics: \n",
      "{'loss': 18.76587667236328}\n",
      "Best model yet, saving\n",
      "Epoch 12 of 20\n",
      "Validation metrics: \n",
      "{'loss': 18.61452719116211}\n",
      "Best model yet, saving\n",
      "Epoch 13 of 20\n",
      "Validation metrics: \n",
      "{'loss': 18.449699609375}\n",
      "Best model yet, saving\n",
      "Epoch 14 of 20\n",
      "Validation metrics: \n",
      "{'loss': 18.47731965332031}\n",
      "Epoch 15 of 20\n",
      "Validation metrics: \n",
      "{'loss': 18.234235424804687}\n",
      "Best model yet, saving\n",
      "Epoch 16 of 20\n",
      "Validation metrics: \n",
      "{'loss': 18.23460171508789}\n",
      "Epoch 17 of 20\n",
      "Validation metrics: \n",
      "{'loss': 17.955042422485352}\n",
      "Best model yet, saving\n",
      "Epoch 18 of 20\n",
      "Validation metrics: \n",
      "{'loss': 17.79283189086914}\n",
      "Best model yet, saving\n",
      "Epoch 19 of 20\n",
      "Validation metrics: \n",
      "{'loss': 17.7225888671875}\n",
      "Best model yet, saving\n",
      "Epoch 20 of 20\n",
      "Validation metrics: \n",
      "{'loss': 17.811922308349608}\n"
     ]
    }
   ],
   "source": [
    "train_model(model, \n",
    "            train_dataset=train_dataset, \n",
    "            val_dataset=val_dataset, \n",
    "            loss_function=nn.MSELoss(reduction='sum'), \n",
    "            max_epochs = 20,\n",
    "            initial_lr=0.0001)"
   ]
  },
  {
   "cell_type": "markdown",
   "metadata": {
    "id": "lHRzRvhmMC5S"
   },
   "source": [
    "Для лучшей модели получено значение loss=17,8119 на валидационной выборке. Далее будем применять её для идентификации аномалий."
   ]
  },
  {
   "cell_type": "markdown",
   "metadata": {
    "id": "A4v5ZJby-rcY"
   },
   "source": [
    "## **Проверка результатов**"
   ]
  },
  {
   "cell_type": "code",
   "execution_count": 21,
   "metadata": {
    "colab": {
     "base_uri": "https://localhost:8080/"
    },
    "id": "ErXZOCS_-rcY",
    "outputId": "f3217f08-77eb-4063-cec2-ce28a5a3fcc4"
   },
   "outputs": [
    {
     "name": "stderr",
     "output_type": "stream",
     "text": [
      "/usr/local/lib/python3.7/dist-packages/torch/nn/functional.py:3328: UserWarning: nn.functional.upsample is deprecated. Use nn.functional.interpolate instead.\n",
      "  warnings.warn(\"nn.functional.upsample is deprecated. Use nn.functional.interpolate instead.\")\n",
      "/usr/local/lib/python3.7/dist-packages/torch/nn/functional.py:3458: UserWarning: Default upsampling behavior when mode=bilinear is changed to align_corners=False since 0.4.0. Please specify align_corners=True if the old behavior is desired. See the documentation of nn.Upsample for details.\n",
      "  \"See the documentation of nn.Upsample for details.\".format(mode)\n",
      "/usr/local/lib/python3.7/dist-packages/torch/nn/functional.py:1709: UserWarning: nn.functional.sigmoid is deprecated. Use torch.sigmoid instead.\n",
      "  warnings.warn(\"nn.functional.sigmoid is deprecated. Use torch.sigmoid instead.\")\n"
     ]
    }
   ],
   "source": [
    "index = int(np.random.randint(0, len(train_dataset), size=1))\n",
    "sample = train_dataset[index][0]\n",
    "sample_np = np.squeeze(sample.detach().cpu().numpy())\n",
    "sample_ae = model(sample.view(1,1,28,28).to(device))\n",
    "sample_ae_np = np.squeeze(sample_ae.detach().cpu().numpy())"
   ]
  },
  {
   "cell_type": "code",
   "execution_count": 22,
   "metadata": {
    "colab": {
     "base_uri": "https://localhost:8080/",
     "height": 423
    },
    "id": "6X3JmW68-rcY",
    "outputId": "1fdcbeff-fd7e-46b5-abf0-ee06d3d49c0d"
   },
   "outputs": [
    {
     "data": {
      "text/plain": [
       "<matplotlib.image.AxesImage at 0x7f901113ed10>"
      ]
     },
     "execution_count": 22,
     "metadata": {
      "tags": []
     },
     "output_type": "execute_result"
    },
    {
     "data": {
      "image/png": "[encoded data removed]",
      "text/plain": [
       "<Figure size 800x400 with 2 Axes>"
      ]
     },
     "metadata": {
      "tags": []
     },
     "output_type": "display_data"
    }
   ],
   "source": [
    "fig, axes = plt.subplots(nrows=1, ncols=2, figsize=(4, 2), dpi=200)\n",
    "for i, ax in enumerate(axes):\n",
    "    img = sample_np if i==0 else sample_ae_np\n",
    "    ax.imshow(img, cmap='gray')\n",
    "    ax.set_xticks([])\n",
    "    ax.set_yticks([])\n",
    "plt.tight_layout()\n",
    "fig.patch.set_facecolor('white')\n",
    "plt.imshow(img, cmap='gray')"
   ]
  },
  {
   "cell_type": "markdown",
   "metadata": {
    "id": "qVoM1Cuy-rcY"
   },
   "source": [
    "## **Идентификация аномалий.**\n",
    "\n",
    "### **Задание: примените обученную модель автокодировщика к данным тестовой выборки. Вычислите функцию потерь на каждом объекте тестовой выборки.**"
   ]
  },
  {
   "cell_type": "code",
   "execution_count": 23,
   "metadata": {
    "colab": {
     "base_uri": "https://localhost:8080/"
    },
    "id": "EIRm36jK-rcY",
    "outputId": "d309857f-f0e6-4308-e4af-361ec372c565"
   },
   "outputs": [
    {
     "name": "stderr",
     "output_type": "stream",
     "text": [
      "  0%|          | 0/10000 [00:00<?, ?it/s]/usr/local/lib/python3.7/dist-packages/torch/nn/functional.py:3328: UserWarning: nn.functional.upsample is deprecated. Use nn.functional.interpolate instead.\n",
      "  warnings.warn(\"nn.functional.upsample is deprecated. Use nn.functional.interpolate instead.\")\n",
      "/usr/local/lib/python3.7/dist-packages/torch/nn/functional.py:3458: UserWarning: Default upsampling behavior when mode=bilinear is changed to align_corners=False since 0.4.0. Please specify align_corners=True if the old behavior is desired. See the documentation of nn.Upsample for details.\n",
      "  \"See the documentation of nn.Upsample for details.\".format(mode)\n",
      "/usr/local/lib/python3.7/dist-packages/torch/nn/functional.py:1709: UserWarning: nn.functional.sigmoid is deprecated. Use torch.sigmoid instead.\n",
      "  warnings.warn(\"nn.functional.sigmoid is deprecated. Use torch.sigmoid instead.\")\n",
      "100%|██████████| 10000/10000 [00:57<00:00, 174.33it/s, loss=20.6]\n"
     ]
    }
   ],
   "source": [
    "model.eval()\n",
    "test_dataset = DS(mnist_test_samples, val_transforms)\n",
    "test_loader = torch.utils.data.DataLoader(test_dataset, batch_size=1, shuffle=False)\n",
    "loss_function = nn.MSELoss(reduction='sum')\n",
    "\n",
    "losses = []\n",
    "\n",
    "with torch.no_grad():\n",
    "    with tqdm(total=len(test_loader)) as pbar:\n",
    "        for data in test_loader:\n",
    "            data = data.to(device)\n",
    "            output = model(data)\n",
    "            curr_loss = loss_function(output, data).item()\n",
    "            losses.append(curr_loss)\n",
    "            pbar.set_postfix({'loss' : curr_loss})\n",
    "            pbar.update(1)"
   ]
  },
  {
   "cell_type": "markdown",
   "metadata": {
    "id": "4K7pV4Sq-rcZ"
   },
   "source": [
    "## **Анализ значений функции потерь**\n",
    "\n",
    "### Задание:\n",
    "- Отобразите гистограмму значений функции потерь. Сделайте выводы (напишите ТЕКСТ) относительно значений для обычных объектов и аномалий.\n",
    "- Найдите объекты-аномалии, отобразите их.\n",
    "- Вычислите на них обученный вами автокодировщик. Отобразите рядом объекты-аномалии и их реконструкцию, вычисленную вашим автокодировщиком."
   ]
  },
  {
   "cell_type": "code",
   "execution_count": 25,
   "metadata": {
    "colab": {
     "base_uri": "https://localhost:8080/",
     "height": 400
    },
    "id": "hwfoldFP-rcZ",
    "outputId": "87829f5a-d919-421a-9f05-dd0346fe5d16"
   },
   "outputs": [
    {
     "data": {
      "image/png": "[encoded data removed]",
      "text/plain": [
       "<Figure size 2160x720 with 1 Axes>"
      ]
     },
     "metadata": {
      "needs_background": "light",
      "tags": []
     },
     "output_type": "display_data"
    }
   ],
   "source": [
    "import seaborn as sns\n",
    "fig, ax = plt.subplots(figsize=(30,10))\n",
    "sns.histplot(losses)\n",
    "ax.set_title('Losses distibution', fontsize = 30)\n",
    "ax.set_xlabel('Loss', fontsize = 30)\n",
    "ax.set_ylabel('Count', fontsize = 30)\n",
    "ax.set_xticks(np.arange(0, 230, step = 10))\n",
    "plt.tight_layout()"
   ]
  },
  {
   "cell_type": "markdown",
   "metadata": {
    "id": "rN_OBs_PM99C"
   },
   "source": [
    "По гистограмме значений функции потерь можем заметить, что нормальными являются значения от 0 до 63. Далее при повышением порога от 63, рассматривая при этом аномальные исходы, приходим к выводу, что последним похожим на цифру изображением является изображение с loss = 68. Таким образом, мы экспериментально подобрали пороговое значение функции потерь: threshold = 70."
   ]
  },
  {
   "cell_type": "code",
   "execution_count": 29,
   "metadata": {
    "colab": {
     "base_uri": "https://localhost:8080/"
    },
    "id": "l6bl9p5UiLvp",
    "outputId": "bb5b5491-e350-4b6d-f39d-18a7c4fd3bfb"
   },
   "outputs": [
    {
     "name": "stdout",
     "output_type": "stream",
     "text": [
      "Anomalies: 16\n",
      "Test dataset size: 10000\n"
     ]
    }
   ],
   "source": [
    "threshold = 70\n",
    "anomalies = []\n",
    "for i, loss in enumerate(losses) :\n",
    "    if loss > threshold : \n",
    "        anomalies.append((i, loss))\n",
    "print(f'Anomalies: {len(anomalies)}\\nTest dataset size: {len(losses)}')"
   ]
  },
  {
   "cell_type": "code",
   "execution_count": 27,
   "metadata": {
    "colab": {
     "base_uri": "https://localhost:8080/",
     "height": 643
    },
    "id": "4GeHSSX6iygO",
    "outputId": "a5cb3d15-5bfb-4fb7-b28f-c74f6db85a27"
   },
   "outputs": [
    {
     "name": "stderr",
     "output_type": "stream",
     "text": [
      "/usr/local/lib/python3.7/dist-packages/torch/nn/functional.py:3328: UserWarning: nn.functional.upsample is deprecated. Use nn.functional.interpolate instead.\n",
      "  warnings.warn(\"nn.functional.upsample is deprecated. Use nn.functional.interpolate instead.\")\n",
      "/usr/local/lib/python3.7/dist-packages/torch/nn/functional.py:3458: UserWarning: Default upsampling behavior when mode=bilinear is changed to align_corners=False since 0.4.0. Please specify align_corners=True if the old behavior is desired. See the documentation of nn.Upsample for details.\n",
      "  \"See the documentation of nn.Upsample for details.\".format(mode)\n",
      "/usr/local/lib/python3.7/dist-packages/torch/nn/functional.py:1709: UserWarning: nn.functional.sigmoid is deprecated. Use torch.sigmoid instead.\n",
      "  warnings.warn(\"nn.functional.sigmoid is deprecated. Use torch.sigmoid instead.\")\n"
     ]
    },
    {
     "data": {
      "image/png": "[encoded data removed]",
      "text/plain": [
       "<Figure size 2000x1000 with 10 Axes>"
      ]
     },
     "metadata": {
      "tags": []
     },
     "output_type": "display_data"
    }
   ],
   "source": [
    "indices = np.random.randint(0, len(anomalies), size=5)\n",
    "\n",
    "fig, axes = plt.subplots(nrows=2, ncols=5, figsize=(10, 5), dpi=200)\n",
    "for i in range(5) :\n",
    "    sample_index = anomalies[indices[i]][0]\n",
    "    loss = anomalies[indices[i]][1]\n",
    "    sample = test_dataset[sample_index]\n",
    "    sample = sample.unsqueeze_(0)\n",
    "    axes[0][i].imshow(np.squeeze(sample), cmap='gray')\n",
    "    axes[0][i].set_xticks([])\n",
    "    axes[0][i].set_yticks([])\n",
    "\n",
    "    model.eval()\n",
    "    sample = sample.to(device)\n",
    "    with torch.no_grad() :\n",
    "      output = model(sample)\n",
    "    axes[1][i].set_title('№{}, loss {:.1f}'.format(sample_index, loss))\n",
    "    axes[1][i].imshow(np.squeeze(output.cpu().numpy()), cmap='gray')\n",
    "    axes[1][i].set_xticks([])\n",
    "    axes[1][i].set_yticks([])\n",
    "plt.tight_layout()\n",
    "fig.patch.set_facecolor('white')"
   ]
  },
  {
   "cell_type": "markdown",
   "metadata": {
    "id": "u2LvC9wD-rcZ"
   },
   "source": [
    "### **Задание: создайте файл маркировки аномалий**"
   ]
  },
  {
   "cell_type": "code",
   "execution_count": 31,
   "metadata": {
    "id": "dPZvStlS-rcZ"
   },
   "outputs": [],
   "source": [
    "answer = np.zeros((len(test_dataset)))\n",
    "\n",
    "for tmp in anomalies:\n",
    "    index = tmp[0]\n",
    "    answer[index] = 1\n",
    "\n",
    "np.savetxt('result.txt', answer, newline='', delimiter='', fmt='%d')"
   ]
  }
 ],
 "metadata": {
  "accelerator": "GPU",
  "colab": {
   "collapsed_sections": [],
   "name": "HW06-writeup.ipynb",
   "provenance": []
  },
  "kernelspec": {
   "display_name": "Python 3",
   "language": "python",
   "name": "python3"
  },
  "language_info": {
   "codemirror_mode": {
    "name": "ipython",
    "version": 3
   },
   "file_extension": ".py",
   "mimetype": "text/x-python",
   "name": "python",
   "nbconvert_exporter": "python",
   "pygments_lexer": "ipython3",
   "version": "3.8.3"
  }
 },
 "nbformat": 4,
 "nbformat_minor": 1
}
