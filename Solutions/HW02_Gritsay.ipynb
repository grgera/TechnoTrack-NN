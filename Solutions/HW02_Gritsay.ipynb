{
 "cells": [
  {
   "cell_type": "markdown",
   "metadata": {},
   "source": [
    "# ДЗ №2 - обучение модели трехслойного перцептрона методом градиентного спуска"
   ]
  },
  {
   "cell_type": "markdown",
   "metadata": {},
   "source": [
    "## (1)\n",
    "В качестве теоретического задания в этом ДЗ предлагается провести вывод функции ошибки для задачи регрессии в предположении, что целевая переменная подчиняется распределению Лапласа. Также предлагается воспользоваться байесовским выводом и в том же предположении относительно распределения целевой переменной вывести форму функции потерь с условием лапласовского априорного распределения параметров модели."
   ]
  },
  {
   "cell_type": "markdown",
   "metadata": {},
   "source": [
    "Прикрепил фото вместе с этим ноутбуком."
   ]
  },
  {
   "cell_type": "markdown",
   "metadata": {},
   "source": [
    "## (2)\n",
    "В этом ДЗ предлагается реализовать модель трехслойного перцептрона и обучение этой модели методом градиентного спуска.\n",
    "\n",
    "На этот раз предлагается работать с реальными данными. Данные представляют из себя набор рукописных цифр. Это изображения размером 28х28. Каждому изображению поставлен в соответствие класс - арабская цифра. Задача модели - определить цифру, соответствующую произвольному изображению из тестового набора данных.\n",
    "\n",
    "Так же, как и в ДЗ №1, предлагается реализовать функцию потерь и саму модель перцептрона в манере, схожей с построением модулей фреймворка pytorch.\n",
    "\n",
    "В решении ожидается наличие следующих ключевых составляющих:<br />\n",
    "\n",
    "- (текст) формулировка задачи\n",
    "- (текст) формулировка признакового описания объектов\n",
    "- (текст, формулы) формулировка модели многослойного перцептрона\n",
    "- (текст, формулы) формулировка функции ошибки\n",
    "- (текст, формулы) формулировка меры качества модели\n",
    "- (текст, код и диаграммы) исследование исходных данных: распределение признаков и другие действия, дающие понимание о характере исходных данных\n",
    "- (текст, код, диаграммы) фильтрация признаков (при необходимости), порождение признаков (при необходимости)\n",
    "- (формулы, код, результаты, коммментарии) обучение модели методом градиентного спуска\n",
    "- (код, результаты, комментарии) оценка качества модели на валидационной выборке\n",
    "\n",
    "#### Код решения:\n",
    "(можно использовать предлагаемые шаблоны)\n",
    "- формулировка модели трехслойного перцептрона. Имеется в виду только один скрытый слой;\n",
    "- формулировка функции ошибки;\n",
    "- формулировка метрики (метрик);\n",
    "- формулировка цикла оптимизации параметров.\n",
    "\n",
    "#### Визуализация в решении:\n",
    "- распределение признаков;\n",
    "- распределение целевой переменной;\n",
    "- отдельные экземпляры выборки в виде изображений;\n",
    "- эволюция функции ошибки по ходу обучения;\n",
    "- эволюция метрики(метрик) по ходу обучения\n",
    "\n",
    "#### Выводы\n",
    "- вывод о достаточности или избыточности данных для оценки параметров модели\n",
    "- вывод о соотношении выразительности модели и ее обобщающей способности (наблюдаются ли явления переобучения или недообучения).\n",
    "\n",
    "Примечание:<br />\n",
    "Реализация перцептрона и других составляющих исследования может быть написана только с использованием библиотеки Numpy или scipy. Решения с использованием библиотек автоматического вычисления градиентов не засчитываются."
   ]
  },
  {
   "cell_type": "markdown",
   "metadata": {},
   "source": [
    "### Исходные данные\n",
    "\n",
    "Исходные данные можно скачать [по этой ссылке](https://www.dropbox.com/s/y6ar7i7mb6fvoed/mnist.npz). Набор данных MNIST поставляется в различных вариантах. В варианте, доступном по приведенной ссылке, чтение исходных данных может быть выполнено следующим образом:\n",
    "\n",
    "```\n",
    "import numpy as np\n",
    "mnist = np.load('mnist.npz')\n",
    "x_train = mnist['x_train']\n",
    "y_train = mnist['y_train']\n",
    "x_test = mnist['x_test']\n",
    "y_test = mnist['y_test']\n",
    "```"
   ]
  },
  {
   "cell_type": "markdown",
   "metadata": {},
   "source": [
    "### Многослойный перцептрон\n",
    "\n",
    "Напомним, мы задаем мнолослойный перцептрон как сложную функцию, в которой используются линейные операции и поточечные нелинейные преобразования. Если входные данные (признаковое описание объекта) заданы вектором $x$, то функция перцептрона с одним скрытым слоем выглядит следующим образом:\n",
    "$$\n",
    "F(x) = \\Psi\\left(\\phi\\left( {x}\\cdot\\theta_1 + b_1 \\right)\\cdot\\theta_2 + b_2\\right),\n",
    "$$\n",
    "где $x$ имеется в виду без дополнительного единичного признака; $\\phi$ - функция активации скрытого слоя; $\\Psi$ - функция активации выходного слоя перцептрона.\n",
    "\n",
    "Напомним также, что в задаче жесткой многоклассовой классификации на $K$ классов допустим вариант формулировки модели, такой что:\n",
    "- количество признаков целевой переменной совпадает с количеством классов $K$;\n",
    "- в качестве функции активации $\\Psi$ может использоваться `softmax`:\n",
    "$$\n",
    "\\Psi(h_i) = \\frac{e^{h_i}}{\\sum_{j=1}^{K}{e^{h_j}}}\n",
    "$$\n",
    "- в качестве функции потерь может использоваться перекрестная энтропия в многоклассовом варианте (приведено в записи для одного объекта):\n",
    "$$\n",
    "{\\mathscr{L}}\\left(\\hat{y},y\\right) = -\\sum_{j=1}^{K}{y_j*ln\\left(\\hat{y}_j\\right)},\n",
    "$$\n",
    "где $\\hat{y}=F(x)$\n",
    "\n",
    "В своем решении вы никак не ограничены в выборе функций активации $\\phi$ или $\\Psi$. Однако есть некоторые устоявшиеся практики применения функций `ReLU, sigmoid, tanh`."
   ]
  },
  {
   "cell_type": "markdown",
   "metadata": {},
   "source": [
    "### Особенности реализации функции `softmax`\n",
    "Несложно заметить, что как в числителе, так и в знаменателе функции `softmax` стоит экспонента некоторого числа. При этом следует понимать, что разрядность чисел с плавающей точкой `float32`, `float64` и даже `float128` не бесконечны. Свойства экспоненты таковы, что, например, для переполнения разрядности чисел `float64` (максимум  $\\sim1.78*10^{308}$) достаточно показателя, превышающего 710, что совсем немного. Поэтому в случае практической реализации функции `softmax` имеет смысл предусмотреть случаи, когда аргументы экспоненты велики или, наоборот, слишком малы.\n",
    "\n",
    "В этом ДЗ кроме прочих заданий вам нужно реализовать вычислительно стабильную версию `softmax`."
   ]
  },
  {
   "cell_type": "markdown",
   "metadata": {},
   "source": [
    "### Особенности вычисления градиента функции потерь\n",
    "\n",
    "В этом домашнем задании, также как и в ДЗ№1 предлагается реализовывать функцию потерь и отдельные вычислительные блоки перцептрона наследующими `Differentiable` для общности восприятия этих модулей как дифференцируемых по своим аргументам. По желанию можно вычислить градиент функции потерь по параметрам модели вручную (и далее реализовать его в коде), однако предпочитаемым способом будет реализация градиента каждого из вычислительных блоков по аргументу в методе `backward()` и использование этого результата в обобщенном виде, без упрощения. Этот вариант вычисления градиента функции потерь по параметрам модели называется \"backpropagation\" (\"метод обратного распространения ошибки\" или \"метод обратной волны\" у разных авторов).\n",
    "\n",
    "Нелишним будет напомнить, что в некоторых случаях для вычисления компоненты градиента необходимо хранить значения, полученные на этапе вычисления функции $F(x)$. В вашем решении это может быть устроено по-разному. Но для тех, кто хочет придерживаться предложенного шаблона, введен атрибут `state` класса `Differentiable`."
   ]
  },
  {
   "cell_type": "markdown",
   "metadata": {},
   "source": [
    "## Формулировка задачи и модели\n",
    "Нам необходимо реализовать модель трехслойного перцептрона. Мы принимаем за первый слой входные данные, затем - скрытый слой с функцией активации, последний слой с функцией активации ответ нашей модели.\n",
    "\n",
    "Обучать перцептрон мы будем на наборе MNIST. Мы строим модель, которая будет каждой картинке 28х28 ставить в соответствие число, которое на ней изображено.\n",
    "\n",
    "Многослойный перцептрон можно определить следующим образом:\n",
    "\n",
    "$$\n",
    "\\begin{equation}\n",
    "    \\begin{cases}\n",
    "    h_1 = \\psi_1(\\theta_1^T \\cdot x)\n",
    "    \\\\\n",
    "    h_2 = \\psi_2(\\theta_2^T  \\cdot h_1)\n",
    "    \\\\\n",
    "    \\vdots\n",
    "    \\\\\n",
    "    h_k = \\psi_k(\\theta_k^T \\cdot h_{k-1})\n",
    "    \\\\\n",
    "    y = \\psi_{k+1}(\\theta_{k+1}^T \\cdot h_k)\n",
    "    \\end{cases}\n",
    "\\end{equation}\n",
    "$$\n",
    "\n",
    "где $x$ - объект, $\\theta_i$ - матрица параметров, по которым будет происходить оптимизация, $\\psi_i$ - функция активации, $y$ - предсказание целевого значения, в нашем случае число на картинке.\n",
    "\n",
    "Также можем определить перцептрон следующим образом:  $F(x) = \\Psi\\left(\\phi\\left( {x}\\cdot\\theta_1 + b_1 \\right)\\cdot\\theta_2 + b_2\\right)$ , где $x$ - датасет, где вектора из $R^{784}$. Результатом работы будет one-hot вектор длиной 10, где единица стоит на месте с координатой истинной метки, а предсказанием алгоритма является вектор из вероятнотстей принадлежности каждому класу."
   ]
  },
  {
   "cell_type": "markdown",
   "metadata": {},
   "source": [
    "## Формулировка функции ошибки\n",
    "\n",
    "Целевая переменная $y$ имеет мультиномиальное распределение, поэтому мы можем использовать $Cross   Entropy$ как функцию потерь.\n",
    "\n",
    "Функция потерь будет иметь вид:  $\\mathcal{L} = -\\frac{1}{m}\\sum^{m}_{i=1} {\\sum^{K}_{j=1} {y_{j}^{(i)}\\ln{\\hat{y}_{j}^{(i)}}}}$, где $\\hat{y}_{j}^{(i)}$ предсказанное целевое значение, $K$ - количество классов, $m$ - размер мини-батча.\n",
    "\n",
    "Стоит упомянуть про функции активации: в скрытом слое мы будем использовать нелинейную 𝑅𝑒𝐿𝑈(𝑥) = max (0,𝑥), а в выходном, обобщение сигмоида на многоклассовую классификацию 𝑆𝑜𝑓𝑡𝑚𝑎𝑥$(x_i)$  = $\\frac{\\exp{x_i}}{\\sum_{k=0}^{n} \\exp{x_k}}$.\n",
    "\n",
    "Обучаемыми параметрами сети являются все веса, с которыми суммируются входы всех нейронов. Будем обучать их методом $Stochastic$ $Gradient$ $Descent$.\n",
    "\n",
    "Стохастический градиентный спуск отличается от простого градиентного спуска тем, что вычисление градиента производится не на всей выборке, а только на её части. Это необходимо в том случае, если выборка слишком большая, так как иначе, если бы мы вычисляли градиент по всей выборке, это заняло бы много времени. В нашей задаче мы предполагаем, что данные взяты из какого-то одного распределения и поэтому можно использовать для оценки градиента только часть данных.\n",
    "\n",
    "Производную функции потерь по параметрам перцептрона будем вычислять при помощи back propagation - способ вычисления производной функции потерь по параметрам сети, основанный на понятии вычислительного графа и правиле взятия производной сложной функции. \n",
    "\n",
    "В каждом нейроне мы хотим уметь считать производную выхода этого нейрона по входу этого нейрона. Будем передавать полученное значение производной к предыдущему нейрону и так, накапливая результат, в соответствии с правилом вычисления производной сложной функции, на уровне входного слоя получим искомые значения градиентов функции потерь по параметрам.\n",
    "\n",
    "$$\\frac{\\partial L(\\theta, x)}{\\partial \\theta_1} = \\frac{\\partial L(\\theta, x)}{\\partial \\hat{y}} \\frac{\\partial \\hat{y}}{\\partial \\theta_1} = \\frac{\\partial L(\\theta, x)}{\\partial \\hat{y}} \\frac{\\partial \\hat{y}}{\\partial Softmax} ...$$"
   ]
  },
  {
   "cell_type": "markdown",
   "metadata": {},
   "source": [
    "## Формулировка меры качества модели\n",
    "\n",
    "Датасет MNIST сбалансирован по целевой переменной, поэтому можем использовать метрику *accuracy* (Доля верных ответов).\n",
    "\n",
    "$$accuracy = \\frac{ \\sum_{i=1}^{N} \\langle{y_i == \\hat{y_i}}\\rangle}{N}$$"
   ]
  },
  {
   "cell_type": "code",
   "execution_count": 1,
   "metadata": {},
   "outputs": [],
   "source": [
    "import numpy as np\n",
    "import seaborn as sns\n",
    "from tqdm import tqdm"
   ]
  },
  {
   "cell_type": "code",
   "execution_count": 2,
   "metadata": {},
   "outputs": [],
   "source": [
    "%matplotlib inline"
   ]
  },
  {
   "cell_type": "code",
   "execution_count": 3,
   "metadata": {},
   "outputs": [],
   "source": [
    "import matplotlib.pyplot as plt"
   ]
  },
  {
   "cell_type": "markdown",
   "metadata": {},
   "source": [
    "Загрузим наши данные."
   ]
  },
  {
   "cell_type": "code",
   "execution_count": 4,
   "metadata": {},
   "outputs": [],
   "source": [
    "mnist = np.load('mnist.npz')\n",
    "x_train = mnist['x_train']\n",
    "y_train = mnist['y_train']\n",
    "x_test = mnist['x_test']\n",
    "y_test = mnist['y_test']"
   ]
  },
  {
   "cell_type": "markdown",
   "metadata": {},
   "source": [
    "Убедимся, в их корректности."
   ]
  },
  {
   "cell_type": "code",
   "execution_count": 5,
   "metadata": {},
   "outputs": [
    {
     "name": "stdout",
     "output_type": "stream",
     "text": [
      "2\n"
     ]
    },
    {
     "data": {
      "image/png": "[encoded data removed]",
      "text/plain": [
       "<Figure size 432x288 with 1 Axes>"
      ]
     },
     "metadata": {
      "needs_background": "light"
     },
     "output_type": "display_data"
    }
   ],
   "source": [
    "plt.imshow(x_train[5])\n",
    "print(y_train[5])"
   ]
  },
  {
   "cell_type": "markdown",
   "metadata": {},
   "source": [
    "Обратим внимание на формат наших выборок. Нам необходимо преобразовать их от вида (..., 28, 28) к (..., 784)."
   ]
  },
  {
   "cell_type": "code",
   "execution_count": 6,
   "metadata": {},
   "outputs": [
    {
     "name": "stdout",
     "output_type": "stream",
     "text": [
      "Before:  (60000, 28, 28)\n",
      "After:  (60000, 784)\n"
     ]
    }
   ],
   "source": [
    "print('Before: ', x_train.shape)\n",
    "X_train = x_train.reshape(x_train.shape[0], 784)\n",
    "X_test = x_test.reshape(x_test.shape[0], 784)\n",
    "print('After: ', X_train.shape)"
   ]
  },
  {
   "cell_type": "markdown",
   "metadata": {},
   "source": [
    "Посмотрим распредление нашей целевой переменной."
   ]
  },
  {
   "cell_type": "code",
   "execution_count": 7,
   "metadata": {},
   "outputs": [
    {
     "data": {
      "text/plain": [
       "<matplotlib.axes._subplots.AxesSubplot at 0x18dc8eaed60>"
      ]
     },
     "execution_count": 7,
     "metadata": {},
     "output_type": "execute_result"
    },
    {
     "data": {
      "image/png": "[encoded data removed]",
      "text/plain": [
       "<Figure size 432x288 with 1 Axes>"
      ]
     },
     "metadata": {
      "needs_background": "light"
     },
     "output_type": "display_data"
    }
   ],
   "source": [
    "sns.countplot(y_train)"
   ]
  },
  {
   "cell_type": "markdown",
   "metadata": {},
   "source": [
    "Значения в этих датасетах лежат в промежутке [0, 255]. У нас оптимизация градиентная, поэтому нормализуем данные по формуле \n",
    "$x= \\frac{x - x_{min}}{x_{max} - x_{min}}$\n",
    "\n",
    "Также, так как мы решаем задачу многоклассовой классификации, оптимизируя $Cross$ $Entropy$ как функцию потерь (и используя $Softmax$, который возвращает вектор из вероятностей), то целевая переменная должна быть не числом, а One-Hot вектором."
   ]
  },
  {
   "cell_type": "code",
   "execution_count": 8,
   "metadata": {},
   "outputs": [],
   "source": [
    "def Normalization(X):\n",
    "    \n",
    "    min_value = X.min(axis=0)\n",
    "    max_value = X.max(axis=0)\n",
    "    \n",
    "    return (X - min_value) / (max_value - min_value + 1e-100)\n",
    "\n",
    "def OneHotEnc(y, k = 10):\n",
    "    \n",
    "    one_hot = np.empty((y.shape[0], k))\n",
    "    \n",
    "    for i, targ in enumerate(y):\n",
    "        one_hot[i] = np.array([1 if targ == z else 0 for z in np.arange(k)])\n",
    "        \n",
    "    return one_hot"
   ]
  },
  {
   "cell_type": "code",
   "execution_count": 9,
   "metadata": {},
   "outputs": [],
   "source": [
    "X_train_norm = Normalization(X_train)\n",
    "X_test_norm = Normalization(X_test)\n",
    "y_train_ohe = OneHotEnc(y_train)\n",
    "y_test_ohe = OneHotEnc(y_test)"
   ]
  },
  {
   "cell_type": "markdown",
   "metadata": {},
   "source": [
    "### Перейдем к реализации нашей модели\n",
    "\n",
    "- `Differentiable` - абстрактный базовый класс для всех модулей нейронной сети.\n",
    "\n",
    "- `Loss` - класс для описания функционала ошибки, а именно CrossEntropy.\n",
    "\n",
    "- `Linear` - класс, описывающий линейную часть модели.\n",
    "\n",
    "- `Activation` - класс для функции активации ReLU.\n",
    "\n",
    "- `Softmax` - класс для функции активации Softmax.\n",
    "\n",
    "- `Perceptron` - класс с архитектурой нейронной сети."
   ]
  },
  {
   "cell_type": "code",
   "execution_count": 10,
   "metadata": {},
   "outputs": [],
   "source": [
    "class Differentiable:\n",
    "    def __init__(self):\n",
    "        self.state = None\n",
    "        pass\n",
    "    \n",
    "    def forward(self, **kwargs):\n",
    "        raise NotImplementedError()\n",
    "    \n",
    "    def backward(self, **kwargs):\n",
    "        raise NotImplementedError()"
   ]
  },
  {
   "cell_type": "code",
   "execution_count": 11,
   "metadata": {},
   "outputs": [],
   "source": [
    "class loss(Differentiable):\n",
    "    def __init__(self):\n",
    "        super(loss, self).__init__()\n",
    "        self.cache = None\n",
    "    \n",
    "    def forward(self, y_true, y_pred):\n",
    "        # Метод реализует вычисление значения функции потерь\n",
    "        \n",
    "        self.cache = y_pred\n",
    "        loss_value = np.sum(y_true * np.log(y_pred), axis=1)\n",
    "                \n",
    "        return np.negative(loss_value.mean())\n",
    "    \n",
    "    \n",
    "    def backward(self, y_true):\n",
    "        # Метод реализует вычисление градиента функции потерь по аргументу y_pred\n",
    "        \n",
    "        partial_grad = np.zeros_like(self.cache)\n",
    "        partial_grad = np.negative(y_true / self.cache)\n",
    "        \n",
    "        return partial_grad"
   ]
  },
  {
   "cell_type": "code",
   "execution_count": 12,
   "metadata": {},
   "outputs": [],
   "source": [
    "class Linear(Differentiable):\n",
    "    def __init__(self, in_features, out_features):\n",
    "        super(Linear, self).__init__()\n",
    "        self.cache = None\n",
    "        self.in_features = in_features\n",
    "        self.out_features = out_features    \n",
    "        self.theta = np.random.randn(in_features, out_features) * 0.001\n",
    "        self.bias = np.zeros(self.out_features)\n",
    "    \n",
    "    def __call__(self, X):\n",
    "        # Мтод предназначен для вычисления значения целевой переменной\n",
    "        return self.forward(X)\n",
    "    \n",
    "    def backward(self, upstream_grad, lr):\n",
    "        # Метод реализует вычисление компоненты градиента функции потерь\n",
    "        \n",
    "        self.dL_dtheta = np.dot(self.cache.T, upstream_grad)\n",
    "        self.dL_dx = np.dot(upstream_grad, self.theta.T)\n",
    "        self.dL_db = upstream_grad.sum(0)\n",
    "\n",
    "        if lr != 0:\n",
    "            self.theta -= lr * self.dL_dtheta\n",
    "            self.bias -= lr * self.dL_db \n",
    "        \n",
    "        return self.dL_dx\n",
    "    \n",
    "    def forward(self, X):\n",
    "        # Метод предназначен для применения модели к данным\n",
    "        \n",
    "        self.cache = X     \n",
    "        y_pred = np.matmul(X, self.theta) + self.bias\n",
    "\n",
    "        return y_pred"
   ]
  },
  {
   "cell_type": "code",
   "execution_count": 13,
   "metadata": {},
   "outputs": [],
   "source": [
    "class Activation(Differentiable):\n",
    "    def __init__(self):\n",
    "        super(Activation, self).__init__()\n",
    "        self.cache = None\n",
    "    \n",
    "    def __call__(self, X):\n",
    "        # Метод предназначен для вычисления значения целевой переменной\n",
    "        return self.forward(X)\n",
    "    \n",
    "    def backward(self, upstream_grad):\n",
    "        # Метод реализует вычисление компоненты градиента функции потерь\n",
    "        \n",
    "        X = self.cache\n",
    "        partial_grad = np.multiply(upstream_grad, X > 0)\n",
    "        \n",
    "        return partial_grad\n",
    "\n",
    "    \n",
    "    def forward(self, X):\n",
    "      \n",
    "        self.cache = X\n",
    "        return np.maximum(X, 0)"
   ]
  },
  {
   "cell_type": "code",
   "execution_count": 14,
   "metadata": {},
   "outputs": [],
   "source": [
    "class Softmax(Differentiable):\n",
    "    def __init__(self):\n",
    "        super(Softmax, self).__init__()\n",
    "        \n",
    "    def __call__(self, X):\n",
    "        # Метод предназначен для вычисления значения целевой переменной\n",
    "        return self.forward(X)\n",
    "    \n",
    "    @staticmethod\n",
    "    def jacobian(x):\n",
    "        # Метод возвращает якобиан Softmax\n",
    "        \n",
    "        x = x.reshape(-1,1)\n",
    "        return np.diagflat(x) - np.dot(x, x.T)\n",
    "    \n",
    "    def backward(self, upstream_grad):\n",
    "        # Метод реализует вычисление компоненты градиента функции потерь\n",
    "        \n",
    "        forward_value = self.forward(self.cache)[:, np.newaxis]\n",
    "        jacobian = np.squeeze(np.apply_along_axis(Softmax.jacobian, axis = 2, arr = forward_value))     \n",
    "        \n",
    "        upstream = upstream_grad[:, np.newaxis]\n",
    "        partial_grad = np.squeeze(upstream @ jacobian)\n",
    "        \n",
    "        return partial_grad \n",
    "    \n",
    "    def forward(self, X):\n",
    "\n",
    "        self.cache = X\n",
    "        output = np.subtract(X, X.max(axis=1, keepdims=True))\n",
    "        output = np.exp(output) / np.sum(np.exp(output), axis=1, keepdims=True) \n",
    "        \n",
    "        return output"
   ]
  },
  {
   "cell_type": "code",
   "execution_count": 15,
   "metadata": {},
   "outputs": [],
   "source": [
    "class Perceptron(Differentiable):\n",
    "    def __init__(self):\n",
    "        super(Perceptron, self).__init__()\n",
    "        self.linear = Linear(784, 128)\n",
    "        self.actv = Activation()\n",
    "        self.linear2 = Linear(128, 10)\n",
    "        self.sm = Softmax()\n",
    "    \n",
    "    def __call__(self, X):\n",
    "        # Метод предназначен для вычисления значения целевой переменной\n",
    "        return self.forward(X)\n",
    "    \n",
    "    def backward(self, upstream_grad, lr):\n",
    "        # Метод реализует вычисление компоненты градиента функции потерь\n",
    "        upstream_grad = self.sm.backward(upstream_grad)\n",
    "        upstream_grad = self.linear2.backward(upstream_grad, lr)\n",
    "        upstream_grad = self.actv.backward(upstream_grad)\n",
    "        upstream_grad = self.linear.backward(upstream_grad, lr)\n",
    "        \n",
    "        return upstream_grad\n",
    "    \n",
    "    def forward(self, X):\n",
    "        # Здесь следует собственно применить модель к входным данным\n",
    "        \n",
    "        y_pred = self.linear(X)\n",
    "        y_pred = self.actv(y_pred)\n",
    "        y_pred = self.linear2(y_pred)\n",
    "        y_pred = self.sm(y_pred)\n",
    "        \n",
    "        return y_pred"
   ]
  },
  {
   "cell_type": "markdown",
   "metadata": {},
   "source": [
    "Определим функцию по генерации \"батчей\" для использования SGD."
   ]
  },
  {
   "cell_type": "code",
   "execution_count": 16,
   "metadata": {},
   "outputs": [],
   "source": [
    "def generate_batches(X, y, batch_size):\n",
    "    assert len(X) == len(y)\n",
    "    np.random.seed(42)\n",
    "    X = np.array(X)\n",
    "    y = np.array(y)\n",
    "    perm = np.random.permutation(len(X))\n",
    "\n",
    "    for i in range(len(X) // batch_size):\n",
    "        perm_start = i * batch_size\n",
    "        perm_end = perm_start + batch_size\n",
    "        ind = perm[perm_start : perm_end]\n",
    "        yield (X[ind], y[ind])"
   ]
  },
  {
   "cell_type": "markdown",
   "metadata": {},
   "source": [
    "Определим функцию для оценки качества модели."
   ]
  },
  {
   "cell_type": "code",
   "execution_count": 17,
   "metadata": {},
   "outputs": [],
   "source": [
    "def _accuracy_score(y_true, y_pred, epoch, epoch_all):\n",
    "    max_proba = np.argmax(y_pred, axis=1)\n",
    "    one_hot = OneHotEnc(max_proba)\n",
    "    epoch += (one_hot == y_true).all(axis=1).sum()\n",
    "    epoch_all += len(y_true)\n",
    "        \n",
    "    return epoch / epoch_all"
   ]
  },
  {
   "cell_type": "markdown",
   "metadata": {},
   "source": [
    "Обучение нашей модели."
   ]
  },
  {
   "cell_type": "code",
   "execution_count": 18,
   "metadata": {},
   "outputs": [],
   "source": [
    "def train_loop(X, y, X_test, y_test, model, loss_fn, epochs=100):\n",
    "    \n",
    "    loss_history_train = [] #Для хранения эволюции лосса на тренировочной выборке\n",
    "    loss_history_test = [] #Для хранения эволюции лосса на тестовой выборке\n",
    "    \n",
    "    accuracy_train_history = [] #Для хранения эволюции метрики качества на тренировочной выборке\n",
    "    accuracy_test_history = [] #Для хранения эволюции метрики качества на тестовой выборке\n",
    "    \n",
    "    epoch_correct_train = 0 # Для вычисления метрики\n",
    "    epoch_all_train = 0\n",
    "\n",
    "    epoch_correct_test = 0\n",
    "    epoch_all_test = 0\n",
    "    \n",
    "    pbar = tqdm(total=epochs)\n",
    "    \n",
    "    batch_size = 128\n",
    "    lr = 0.001\n",
    "    \n",
    "    for epoch in range(epochs):\n",
    "        for X_batch, y_batch in generate_batches(X, y, batch_size):\n",
    "            y_pred = model(X_batch)\n",
    "            loss_value = loss_fn.forward(y_batch, y_pred)\n",
    "            upstream_grad = loss_fn.backward(y_batch)\n",
    "            grad = model.backward(upstream_grad, lr)\n",
    "        \n",
    "        loss_value_train = loss_fn.forward(y, model(X))\n",
    "        loss_history_train.append(loss_value_train)\n",
    "        \n",
    "        loss_value_test = loss_fn.forward(y_test, model(X_test))\n",
    "        loss_history_test.append(loss_value_test)\n",
    "        \n",
    "        accuracy_train = _accuracy_score(y, model(X), epoch_correct_train, epoch_all_train)\n",
    "        accuracy_train_history.append(accuracy_train)\n",
    "        \n",
    "        accuracy_test = _accuracy_score(y_test, model(X_test), epoch_correct_test, epoch_all_test)\n",
    "        accuracy_test_history.append(accuracy_test)\n",
    "          \n",
    "        pbar.update(1)\n",
    "        pbar.set_postfix({'loss': loss_value_train, 'accuracy train': accuracy_train})\n",
    "    pbar.close()\n",
    "    return loss_history_train, loss_history_test, accuracy_train_history, accuracy_test_history"
   ]
  },
  {
   "cell_type": "code",
   "execution_count": 19,
   "metadata": {},
   "outputs": [
    {
     "name": "stderr",
     "output_type": "stream",
     "text": [
      "100%|████████████████████████████| 100/100 [05:59<00:00,  3.60s/it, loss=0.00342, accuracy train=1]\n"
     ]
    }
   ],
   "source": [
    "obj_fn = loss()\n",
    "model = Perceptron()\n",
    "loss_history_train, loss_history_test, accuracy_train_history, accuracy_test_history = train_loop(\n",
    "                          X_train_norm,\n",
    "                          y_train_ohe, \n",
    "                          X_test_norm, \n",
    "                          y_test_ohe,\n",
    "                          model,\n",
    "                          obj_fn,\n",
    "                          epochs = 100)"
   ]
  },
  {
   "cell_type": "markdown",
   "metadata": {},
   "source": [
    "Построим графики эволюции функции потерь и метрики качества."
   ]
  },
  {
   "cell_type": "code",
   "execution_count": 20,
   "metadata": {},
   "outputs": [
    {
     "data": {
      "image/png": "[encoded data removed]",
      "text/plain": [
       "<Figure size 1152x360 with 2 Axes>"
      ]
     },
     "metadata": {
      "needs_background": "light"
     },
     "output_type": "display_data"
    }
   ],
   "source": [
    "fig, ax = plt.subplots(1, 2, figsize=(16, 5));\n",
    "\n",
    "ax[0].plot(loss_history_train, label='train')\n",
    "ax[0].plot(loss_history_test, label='test')\n",
    "ax[0].set_xlabel('Epoch')\n",
    "ax[0].set_ylabel('Loss')\n",
    "ax[0].set_title('Loss')\n",
    "ax[0].legend()\n",
    "\n",
    "ax[1].plot(accuracy_train_history, label='train')\n",
    "ax[1].plot(accuracy_test_history, label='test')\n",
    "ax[1].set_xlabel('Epoch')\n",
    "ax[1].set_ylabel('Accuracy score')\n",
    "ax[1].set_title('Accuracy metrics')\n",
    "ax[1].legend();"
   ]
  },
  {
   "cell_type": "markdown",
   "metadata": {},
   "source": [
    "### Оценка качества\n",
    "\n",
    "Воспользовавшись метрикой accuracy_score из sklearn посмотрим итоговую оценку нашей модели на тренировочной и тестовой выборке."
   ]
  },
  {
   "cell_type": "code",
   "execution_count": 21,
   "metadata": {},
   "outputs": [
    {
     "name": "stdout",
     "output_type": "stream",
     "text": [
      "Final accuracy on train = 0.99993\n",
      "Final accuracy on test = 0.98000\n"
     ]
    }
   ],
   "source": [
    "from sklearn.metrics import accuracy_score\n",
    "\n",
    "y_pred = np.argmax(model.forward(X_train_norm), axis=1)\n",
    "print('Final accuracy on train = %.5f' % accuracy_score(y_train, y_pred))\n",
    "\n",
    "y_pred = np.argmax(model.forward(X_test_norm), axis=1)\n",
    "print('Final accuracy on test = %.5f' % accuracy_score(y_test, y_pred))"
   ]
  },
  {
   "cell_type": "markdown",
   "metadata": {},
   "source": [
    "## Вывод\n",
    "В данной работе мы реализовали модель трехслойного перцептрона, которую обучили классфицировать датасет MNIST. В плане оптимизации вычислений, использовался back propagation и SGD.\n",
    "\n",
    "Модель дает очень хорошую производительность на всех наборах данных и хорошо справилась со своей задачей, об этом свидетельствует значение метрики. Данных в нашем датасете достаточно, мы не сталкиваемся с переобучением и недообучением."
   ]
  }
 ],
 "metadata": {
  "kernelspec": {
   "display_name": "Python 3",
   "language": "python",
   "name": "python3"
  },
  "language_info": {
   "codemirror_mode": {
    "name": "ipython",
    "version": 3
   },
   "file_extension": ".py",
   "mimetype": "text/x-python",
   "name": "python",
   "nbconvert_exporter": "python",
   "pygments_lexer": "ipython3",
   "version": "3.8.3"
  }
 },
 "nbformat": 4,
 "nbformat_minor": 2
}
